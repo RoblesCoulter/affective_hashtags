{
 "cells": [
  {
   "cell_type": "code",
   "execution_count": null,
   "metadata": {
    "collapsed": true
   },
   "outputs": [],
   "source": [
    "## NowPlaying Cultural Sentiment Data\n",
    "cs_header = [\"hashtag\", \"AFINN_min\", \"AFINN_max\", \"AFINN_sum\", \"AFINN_avg\", \"OpinionLex_min\", \"OpinionLex_max\", \"OpinionLex_sum\", \"OpinionLex_avg\", \"Sentistrength_min\", \"Sentistrength_max\", \"Sentistrength_sum\", \"Sentistrength_avg\", \"Vader_min\", \"Vader_max\", \"Vader_sum\", \"Vader_avg\", \"SentimentHashtag_min\", \"SentimentHashtag_max\", \"SentimentHashtag_sum\", \"SentimentHashtag_avg\"]\n",
    "np_cs = pd.read_csv('np_cultural_sentiment.csv',names = cs_header)\n",
    "\n",
    "#IMPORTING Cultural Sentiment Data to MongoDB\n",
    "np_cs_json = json.loads(np_cs.to_json(orient=\"records\"))\n",
    "db.cultural_sentiment.drop()\n",
    "db.cultural_sentiment.insert_many(np_cs_json)\n",
    "\n",
    "## Transformation of NowPlaying Cultural Tweets to DataframeStructure\n",
    "\n",
    "output = []\n",
    "with open(\"np_cultural.json\") as f:\n",
    "    for line in f:     \n",
    "        output.append(json.load|s(line))\n",
    "np_c = pd.DataFrame(output)\n",
    "\n",
    "#IMPORTING Cultural Tweets to MongoDB\n",
    "\n",
    "db.cultural_tweet.drop()\n",
    "records = json.loads(np_c.T.to_json()).values()\n",
    "db.cultural_tweet.insert_many(records)\n",
    "\n",
    "## Transformation and Importing of Playlist Data from NowPlaying to MongoDB\n",
    "np_pl = pd.read_csv(\"playlist.csv\", names=[\"playlist_id\",\"track_id\",\"playlist_name\"])\n",
    "np_pl_json = json.loads(np_pl.to_json(orient=\"records\"))\n",
    "db.playlist.drop()\n",
    "db.playlist.insert_many(np_pl_json)\n"
   ]
  },
  {
   "cell_type": "markdown",
   "metadata": {},
   "source": [
    "### Importing the MusicBrainz Mapping of artists and tracks and tracks from cultural dataset\n",
    "\n",
    "`mongoimport -d now_playing -c mb_tracks --type csv --file mb_tracks.csv --fields \"np_id,mb_track_id\"`\n",
    "\n",
    "`mongoimport -d now_playing -c mb_artists --type csv --file mb_artists.csv --fields \"np_id,mb_artist_id\"`\n",
    "\n",
    "`mongoimport -d now_playing -c np_cultural_mb_tracks --type csv --file np_cultural_mb_tracks.csv --headerline\n",
    "`"
   ]
  },
  {
   "cell_type": "code",
   "execution_count": null,
   "metadata": {
    "collapsed": true
   },
   "outputs": [],
   "source": []
  }
 ],
 "metadata": {
  "anaconda-cloud": {},
  "kernelspec": {
   "display_name": "Python [default]",
   "language": "python",
   "name": "python3"
  },
  "language_info": {
   "codemirror_mode": {
    "name": "ipython",
    "version": 3
   },
   "file_extension": ".py",
   "mimetype": "text/x-python",
   "name": "python",
   "nbconvert_exporter": "python",
   "pygments_lexer": "ipython3",
   "version": "3.5.2"
  }
 },
 "nbformat": 4,
 "nbformat_minor": 1
}
