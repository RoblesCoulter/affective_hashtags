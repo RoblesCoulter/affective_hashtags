{
 "cells": [
  {
   "cell_type": "code",
   "execution_count": null,
   "metadata": {
    "collapsed": false
   },
   "outputs": [],
   "source": []
  },
  {
   "cell_type": "markdown",
   "metadata": {},
   "source": [
    "# CULTURAL #NOWPLAYING DATA\n",
    "*********************************\n",
    "\n",
    "This dataset contains data describing the listening events of users (extracted from the #nowplaying dataset), the emotion extracted from the hashtags used in the according tweets and information about the location of the user.\n",
    "\n",
    "\n",
    "TWITTER AND TRACK DATA\n",
    "-------------------------------\n",
    "The data regarding the listening events is contained in np_cultural.zip and is encoded as json. It holds the following information:\n",
    "\n",
    "- id: the id of the underlying tweet [*]\n",
    "- user_id: the id of the user who sent the tweet (MD5 of it)\n",
    "- user_lang: The BCP 47 code for the user’s self-declared user interface language. [*]\n",
    "- user_time_zone: [*]\n",
    "- text: actual content of the tweet [*]\n",
    "- tweet_lang: language of the tweet (as detected by Twitter; BCP 47 language identifier corresponding to the machine-detected language of the Tweet text, or und if no language could be detected.) [*]\n",
    "- geo: Deprecated version of coordinates (however, we deal with data stemming from before this API change, therefore we still include it; cf. coordinates for a description)\n",
    "- coordinates: Represents the geographic location of this Tweet as reported by the user or client application. The inner coordinates array is formatted as geoJSON (longitude first, then latitude). [*]\n",
    "- place: When present, indicates that the tweet is associated (but not necessarily originating from) a Place. [*]\n",
    "- created_at: time the tweet was sent. [*]\n",
    "- source: Utility used to post the Tweet, as an HTML-formatted string. [*]\n",
    "- track_title: title of the track the user tweeted about\n",
    "- track_id: the unique id of the track (from #nowplaying dataset) \n",
    "- artist_name: name of artist performing the track\n",
    "- artist_id: the unique id of the artist (from #nowplaying dataset) \n",
    "- hashtags: list of hashtags used in the tweet.\n",
    "\n",
    "[*] for further information about the information gathered from Twitter, please consult https://dev.twitter.com/overview/api/tweets\n",
    "\n",
    "Please note that we do only add key-value pairs for geo/coordinates/place information if this information was provided by the Twitter API (i.e., missing keys signal that this information is not available for the given tweet).\n",
    "\n",
    "\n",
    "SENTIMENT DATA\n",
    "-------------------------------\n",
    "The data regarding the hashtag's sentiment (if any could be obtained) is contained in np_cultural_sentiment.csv and is formatted as csv. The sentiment score was obtained by applying a set of well-known sentiment dictionaries. The sentiment scores are scaled between 0 and 1 (very negative to very positive). For each dictionary, we list the minimum, maximum, sum and average sentiment score across all hashtags used within every tweet (most tweets only feature a single hashtag we can assign a sentiment value to)\n",
    "It contains the following information (in this particular order):\n",
    "- name of the hashtag\n",
    "- AFINN dictionary (min, max, sum, avg)\n",
    "- Opinion Lexicon (min, max, sum, avg)\n",
    "- Sentistrength Lexicon (min, max, sum, avg)\n",
    "- Vader (min, max, sum, avg)\n",
    "- Sentiment Hashtag Lexicon (min, max, sum, avg)\n",
    "\n",
    "\n",
    "Please note that we only added hashtags for which we could obtain a sentiment value from at least one sentiment dictionary."
   ]
  },
  {
   "cell_type": "code",
   "execution_count": 1,
   "metadata": {
    "collapsed": true
   },
   "outputs": [],
   "source": [
    "import pymongo\n",
    "from pymongo import MongoClient\n",
    "import pandas as pd\n",
    "import numpy as np \n",
    "import json\n",
    "import time\n",
    "import csv\n",
    "import pprint\n",
    "import spotipy\n",
    "import requests\n",
    "from spotipy.oauth2 import SpotifyClientCredentials\n",
    "from difflib import SequenceMatcher\n"
   ]
  },
  {
   "cell_type": "code",
   "execution_count": 2,
   "metadata": {
    "collapsed": false
   },
   "outputs": [],
   "source": [
    "#Call Mongo Instance\n",
    "client = MongoClient()\n",
    "db = client.now_playing\n",
    "\n",
    "#Spotify Instance\n",
    "client_data = {}\n",
    "with open(\"secrets.json\", 'r') as f:\n",
    "    client_data = json.load(f)\n",
    "client_data\n",
    "\n",
    "client_credentials_manager = SpotifyClientCredentials(client_id=client_data[\"client_id\"], client_secret=client_data[\"client_secret\"],)\n",
    "sp = spotipy.Spotify(client_credentials_manager = client_credentials_manager)"
   ]
  },
  {
   "cell_type": "markdown",
   "metadata": {},
   "source": [
    "## Total Users Count"
   ]
  },
  {
   "cell_type": "code",
   "execution_count": 3,
   "metadata": {
    "collapsed": false
   },
   "outputs": [
    {
     "data": {
      "text/plain": [
       "9431"
      ]
     },
     "execution_count": 3,
     "metadata": {},
     "output_type": "execute_result"
    }
   ],
   "source": [
    "user_ids = db.cultural_tweet.distinct(\"user_id\")\n",
    "len(user_ids)"
   ]
  },
  {
   "cell_type": "markdown",
   "metadata": {},
   "source": [
    "## Helper Methods"
   ]
  },
  {
   "cell_type": "code",
   "execution_count": 7,
   "metadata": {
    "collapsed": false
   },
   "outputs": [],
   "source": [
    "def similar(a, b):\n",
    "    return SequenceMatcher(None, a, b).ratio()\n",
    "def convertMillis(millis):\n",
    "     seconds = (millis/1000)%60\n",
    "     minutes = (millis/(1000*60))%60\n",
    "     return str(int(minutes)) + \":\" +str(int(seconds))\n",
    "    \n",
    "def get_track_list(find_query):\n",
    "    return db.cultural_tweet.find(find_query).distinct(\"track_id\")\n",
    "\n",
    "def get_complete_track(track):\n",
    "    song_name = track[\"name\"].lower()\n",
    "    artist_name = \" \".join(list(map(lambda x: x[\"name\"], track[\"artists\"]))).lower()\n",
    "    return song_name + \" \" + artist_name\n",
    "\n",
    "def get_searched_track_name(track):\n",
    "    song_name = db.cultural_tweet.find_one({\"track_id\" : track}, {\"track_title\" : 1, \"artist_name\" : 1})\n",
    "    return song_name[\"track_title\"].lower() + \" \" + song_name[\"artist_name\"].lower()\n",
    "\n",
    "def get_tweets_from_user(user_id):\n",
    "    return db.cultural_tweet.find({\"user_id\": user_id})\n",
    "\n",
    "def get_created_date(song):\n",
    "    return song[\"created_at\"]\n",
    "\n",
    "def timeout(STime):\n",
    "    print('Sleep for' + str(STime) + 'seconds..')\n",
    "    time.sleep(STime)\n",
    "    print('\\n\\n')"
   ]
  },
  {
   "cell_type": "code",
   "execution_count": null,
   "metadata": {
    "collapsed": false,
    "scrolled": true
   },
   "outputs": [],
   "source": [
    "\n",
    "\n",
    "        \n",
    "        "
   ]
  },
  {
   "cell_type": "code",
   "execution_count": 15,
   "metadata": {
    "collapsed": false,
    "scrolled": true
   },
   "outputs": [
    {
     "name": "stdout",
     "output_type": "stream",
     "text": [
      "Finished querying Spotify for the beat(en) generation (remastered album version) the the\n",
      "Completed 1 out of 1 Not found in Spotify\n",
      "saved!\n"
     ]
    }
   ],
   "source": [
    "song_duration = -1\n",
    "name_found = \"\"\n",
    "searched_name = dict()\n",
    "spotify_id = -1\n",
    "track_list = get_track_list({\"name_found\" : {\"$exists\" : False }, \"spotify_not_found\" : {\"$exists\" : False }})\n",
    "tracks_size = len(track_list)\n",
    "searched = 0\n",
    "for i in range(len(track_list)):   \n",
    "    search_query = get_searched_track_name(track_list[i])\n",
    "\n",
    "    search_result = sp.search(q = search_query, limit= 3, type=\"track\")\n",
    "    print(\"Finished querying Spotify for \"+ search_query)\n",
    "    searched += 1\n",
    "    score = 0\n",
    "    print_text = \"\"\n",
    "    if search_result:\n",
    "        for t in search_result[\"tracks\"][\"items\"]:\n",
    "            result_matcher = get_complete_track(t)\n",
    "            similarity_score = similar(search_query,result_matcher)\n",
    "            if(similarity_score > score):\n",
    "                print(\"Found \" + result_matcher + \" => Similarity Score: \" + str(similarity_score))\n",
    "                song_duration = t[\"duration_ms\"]\n",
    "                score = similarity_score\n",
    "                name_found = result_matcher\n",
    "                searched_name[track_list[i]] = search_query\n",
    "                spotify_id = t[\"id\"]\n",
    "        \n",
    "        if score > 0:\n",
    "            db.cultural_tweet.update_many({\"track_id\": track_list[i]},\n",
    "            {\"$set\" : {\n",
    "                \"duration_ms\" : song_duration,\n",
    "                \"spotify_id\" : spotify_id,\n",
    "                \"similarity_score\" : score,\n",
    "                \"name_found\" : name_found\n",
    "            }})\n",
    "            print_text = \" Saved song \"+ name_found\n",
    "        else:\n",
    "            db.cultural_tweet.update_many({\"track_id\": track_list[i]},\n",
    "             {\"$set\" : {\n",
    "                 \"spotify_not_found\" : True\n",
    "             }})\n",
    "            print_text = \" Not found in Spotify\"\n",
    "             \n",
    "    else:\n",
    "        '''\n",
    "        db.cultural_tweet.update_many({\"track_id\": track_list[i]},\n",
    "            {\"$set\" : {\n",
    "                \"spotify_not_found\" : True\n",
    "            }})\n",
    "\n",
    "            print_text = \" Not found in Spotify\"\n",
    "        ''' \n",
    "        print(\"Didn't find!\")  \n",
    "    print(\"Completed \" + str(searched) +\" out of \" + str(tracks_size) + print_text)         \n",
    "print(\"saved!\")"
   ]
  },
  {
   "cell_type": "code",
   "execution_count": 8,
   "metadata": {
    "collapsed": false
   },
   "outputs": [
    {
     "data": {
      "text/plain": [
       "['db563230b098756cd1f48f6619e22720']"
      ]
     },
     "execution_count": 8,
     "metadata": {},
     "output_type": "execute_result"
    }
   ],
   "source": [
    "track_list = get_track_list({\"name_found\" : {\"$exists\" : False }, \"spotify_not_found\" : {\"$exists\" : False }})\n",
    "track_list"
   ]
  },
  {
   "cell_type": "code",
   "execution_count": null,
   "metadata": {
    "collapsed": true
   },
   "outputs": [],
   "source": [
    "print(\"Songs with duration \" + str(len(db.cultural_tweet.find({\"duration_ms\" : {\"$exists\" : True }}).distinct(\"track_id\"))))\n",
    "print(\"Songs without duration \" + str(len(db.cultural_tweet.find({\"duration_ms\" : {\"$exists\" : False}}).distinct(\"track_id\"))))\n",
    "print(\"Songs in total \" + str(len(db.cultural_tweet.distinct(\"track_id\"))))\n"
   ]
  },
  {
   "cell_type": "code",
   "execution_count": 16,
   "metadata": {
    "collapsed": false,
    "scrolled": true
   },
   "outputs": [
    {
     "name": "stdout",
     "output_type": "stream",
     "text": [
      "Found the beat(en) generation - remastered the the => Similarity Score: 0.8\n"
     ]
    },
    {
     "ename": "TypeError",
     "evalue": "upsert must be True or False",
     "output_type": "error",
     "traceback": [
      "\u001b[0;31m---------------------------------------------------------------------------\u001b[0m",
      "\u001b[0;31mTypeError\u001b[0m                                 Traceback (most recent call last)",
      "\u001b[0;32m<ipython-input-16-054d2cf04e18>\u001b[0m in \u001b[0;36m<module>\u001b[0;34m()\u001b[0m\n\u001b[1;32m     19\u001b[0m                         \u001b[0;34m\"similarity_score\"\u001b[0m \u001b[0;34m:\u001b[0m \u001b[0mscore\u001b[0m\u001b[0;34m,\u001b[0m\u001b[0;34m\u001b[0m\u001b[0m\n\u001b[1;32m     20\u001b[0m                         \u001b[0;34m\"name_found\"\u001b[0m \u001b[0;34m:\u001b[0m \u001b[0mname_found\u001b[0m\u001b[0;34m\u001b[0m\u001b[0m\n\u001b[0;32m---> 21\u001b[0;31m                     }}, {\"$unset\" : { \"spotify_id\" : \"\"}})\n\u001b[0m",
      "\u001b[0;32m/Users/roblescoulter/anaconda/lib/python3.5/site-packages/pymongo/collection.py\u001b[0m in \u001b[0;36mupdate_many\u001b[0;34m(self, filter, update, upsert, bypass_document_validation, collation)\u001b[0m\n\u001b[1;32m    949\u001b[0m                                   \u001b[0mcheck_keys\u001b[0m\u001b[0;34m=\u001b[0m\u001b[0;32mFalse\u001b[0m\u001b[0;34m,\u001b[0m \u001b[0mmulti\u001b[0m\u001b[0;34m=\u001b[0m\u001b[0;32mTrue\u001b[0m\u001b[0;34m,\u001b[0m\u001b[0;34m\u001b[0m\u001b[0m\n\u001b[1;32m    950\u001b[0m                                   \u001b[0mbypass_doc_val\u001b[0m\u001b[0;34m=\u001b[0m\u001b[0mbypass_document_validation\u001b[0m\u001b[0;34m,\u001b[0m\u001b[0;34m\u001b[0m\u001b[0m\n\u001b[0;32m--> 951\u001b[0;31m                                   collation=collation)\n\u001b[0m\u001b[1;32m    952\u001b[0m         \u001b[0;32mreturn\u001b[0m \u001b[0mUpdateResult\u001b[0m\u001b[0;34m(\u001b[0m\u001b[0mresult\u001b[0m\u001b[0;34m,\u001b[0m \u001b[0mself\u001b[0m\u001b[0;34m.\u001b[0m\u001b[0mwrite_concern\u001b[0m\u001b[0;34m.\u001b[0m\u001b[0macknowledged\u001b[0m\u001b[0;34m)\u001b[0m\u001b[0;34m\u001b[0m\u001b[0m\n\u001b[1;32m    953\u001b[0m \u001b[0;34m\u001b[0m\u001b[0m\n",
      "\u001b[0;32m/Users/roblescoulter/anaconda/lib/python3.5/site-packages/pymongo/collection.py\u001b[0m in \u001b[0;36m_update\u001b[0;34m(self, sock_info, criteria, document, upsert, check_keys, multi, manipulate, write_concern, op_id, ordered, bypass_doc_val, collation)\u001b[0m\n\u001b[1;32m    717\u001b[0m                 bypass_doc_val=False, collation=None):\n\u001b[1;32m    718\u001b[0m         \u001b[0;34m\"\"\"Internal update / replace helper.\"\"\"\u001b[0m\u001b[0;34m\u001b[0m\u001b[0m\n\u001b[0;32m--> 719\u001b[0;31m         \u001b[0mcommon\u001b[0m\u001b[0;34m.\u001b[0m\u001b[0mvalidate_boolean\u001b[0m\u001b[0;34m(\u001b[0m\u001b[0;34m\"upsert\"\u001b[0m\u001b[0;34m,\u001b[0m \u001b[0mupsert\u001b[0m\u001b[0;34m)\u001b[0m\u001b[0;34m\u001b[0m\u001b[0m\n\u001b[0m\u001b[1;32m    720\u001b[0m         \u001b[0;32mif\u001b[0m \u001b[0mmanipulate\u001b[0m\u001b[0;34m:\u001b[0m\u001b[0;34m\u001b[0m\u001b[0m\n\u001b[1;32m    721\u001b[0m             \u001b[0mdocument\u001b[0m \u001b[0;34m=\u001b[0m \u001b[0mself\u001b[0m\u001b[0;34m.\u001b[0m\u001b[0m__database\u001b[0m\u001b[0;34m.\u001b[0m\u001b[0m_fix_incoming\u001b[0m\u001b[0;34m(\u001b[0m\u001b[0mdocument\u001b[0m\u001b[0;34m,\u001b[0m \u001b[0mself\u001b[0m\u001b[0;34m)\u001b[0m\u001b[0;34m\u001b[0m\u001b[0m\n",
      "\u001b[0;32m/Users/roblescoulter/anaconda/lib/python3.5/site-packages/pymongo/common.py\u001b[0m in \u001b[0;36mvalidate_boolean\u001b[0;34m(option, value)\u001b[0m\n\u001b[1;32m    131\u001b[0m     \u001b[0;32mif\u001b[0m \u001b[0misinstance\u001b[0m\u001b[0;34m(\u001b[0m\u001b[0mvalue\u001b[0m\u001b[0;34m,\u001b[0m \u001b[0mbool\u001b[0m\u001b[0;34m)\u001b[0m\u001b[0;34m:\u001b[0m\u001b[0;34m\u001b[0m\u001b[0m\n\u001b[1;32m    132\u001b[0m         \u001b[0;32mreturn\u001b[0m \u001b[0mvalue\u001b[0m\u001b[0;34m\u001b[0m\u001b[0m\n\u001b[0;32m--> 133\u001b[0;31m     \u001b[0;32mraise\u001b[0m \u001b[0mTypeError\u001b[0m\u001b[0;34m(\u001b[0m\u001b[0;34m\"%s must be True or False\"\u001b[0m \u001b[0;34m%\u001b[0m \u001b[0;34m(\u001b[0m\u001b[0moption\u001b[0m\u001b[0;34m,\u001b[0m\u001b[0;34m)\u001b[0m\u001b[0;34m)\u001b[0m\u001b[0;34m\u001b[0m\u001b[0m\n\u001b[0m\u001b[1;32m    134\u001b[0m \u001b[0;34m\u001b[0m\u001b[0m\n\u001b[1;32m    135\u001b[0m \u001b[0;34m\u001b[0m\u001b[0m\n",
      "\u001b[0;31mTypeError\u001b[0m: upsert must be True or False"
     ]
    }
   ],
   "source": [
    "test = db.cultural_tweet.find_one({\"track_id\":\"db563230b098756cd1f48f6619e22720\"})\n",
    "score = 0\n",
    "search_result = sp.search(q = \"The Beat(en) Generation - Remastered\", limit= 3, type=\"track\")\n",
    "for t in search_result[\"tracks\"][\"items\"]:\n",
    "            result_matcher = get_complete_track(t)\n",
    "            similarity_score = similar(\"The Beat(en) Generation - Remastered\",result_matcher)\n",
    "            if(similarity_score > score):\n",
    "                print(\"Found \" + result_matcher + \" => Similarity Score: \" + str(similarity_score))\n",
    "                song_duration = t[\"duration_ms\"]\n",
    "                score = similarity_score\n",
    "                name_found = result_matcher\n",
    "                searched_name[track_list[i]] = search_query\n",
    "                spotify_id = t[\"id\"]\n",
    "                if score > 0:\n",
    "                    db.cultural_tweet.update_many({\"track_id\": track_list[i]},\n",
    "                    {\"$set\" : {\n",
    "                        \"duration_ms\" : song_duration,\n",
    "                        \"spotify_id\" : spotify_id,\n",
    "                        \"similarity_score\" : score,\n",
    "                        \"name_found\" : name_found\n",
    "                    }}, {\"$unset\" : { \"spotify_id\" : False}})"
   ]
  },
  {
   "cell_type": "code",
   "execution_count": 12,
   "metadata": {
    "collapsed": false
   },
   "outputs": [
    {
     "data": {
      "text/plain": [
       "<pymongo.results.UpdateResult at 0x112b14b88>"
      ]
     },
     "execution_count": 12,
     "metadata": {},
     "output_type": "execute_result"
    }
   ],
   "source": [
    "db.cultural_tweet.update_many({\"track_id\": \"db563230b098756cd1f48f6619e22720\"},\n",
    "            {\"$set\" : {\n",
    "                \"artist_name\" : \"The The\",\n",
    "                \"track_title\" : \"The Beat(en) Generation (Remastered Album Version)\"\n",
    "            }})"
   ]
  },
  {
   "cell_type": "code",
   "execution_count": 14,
   "metadata": {
    "collapsed": false
   },
   "outputs": [
    {
     "data": {
      "text/plain": [
       "{'_id': ObjectId('59bfff9ced415cd14d0fa890'),\n",
       " 'artist_id': 'e2505e2af0a61167f95e32c7d219e142',\n",
       " 'artist_name': 'The The',\n",
       " 'coordinates': None,\n",
       " 'created_at': '2014-11-14 04:04:21',\n",
       " 'geo': None,\n",
       " 'hashtags': ['googleplay'],\n",
       " 'id': 533093045299077100,\n",
       " 'place': None,\n",
       " 'source': 'IFTTT',\n",
       " 'text': '#nowplaying The The - The Beat(en) Generation (Remastered Album Version) on #googleplay ! http://t.co/LzICeKVtvC',\n",
       " 'track_id': 'db563230b098756cd1f48f6619e22720',\n",
       " 'track_title': 'The Beat(en) Generation (Remastered Album Version)',\n",
       " 'tweet_lang': 'en',\n",
       " 'user_id': '4742df668ebc6a50e6ae7a05f27d9e284f208092',\n",
       " 'user_lang': 'en',\n",
       " 'user_location': 'Everywhere',\n",
       " 'user_time_zone': 'Pacific Time (US & Canada)'}"
      ]
     },
     "execution_count": 14,
     "metadata": {},
     "output_type": "execute_result"
    }
   ],
   "source": [
    "test"
   ]
  },
  {
   "cell_type": "code",
   "execution_count": null,
   "metadata": {
    "collapsed": true
   },
   "outputs": [],
   "source": []
  }
 ],
 "metadata": {
  "anaconda-cloud": {},
  "kernelspec": {
   "display_name": "Python [conda root]",
   "language": "python",
   "name": "conda-root-py"
  },
  "language_info": {
   "codemirror_mode": {
    "name": "ipython",
    "version": 3
   },
   "file_extension": ".py",
   "mimetype": "text/x-python",
   "name": "python",
   "nbconvert_exporter": "python",
   "pygments_lexer": "ipython3",
   "version": "3.5.2"
  }
 },
 "nbformat": 4,
 "nbformat_minor": 1
}
