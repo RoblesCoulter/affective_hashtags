{
 "cells": [
  {
   "cell_type": "code",
   "execution_count": 18,
   "metadata": {
    "collapsed": true,
    "scrolled": true
   },
   "outputs": [],
   "source": [
    "import spotipy\n",
    "from spotipy.oauth2 import SpotifyClientCredentials\n",
    "\n",
    "client_credentials_manager = SpotifyClientCredentials(client_id=\"7736d10450e04c5f9e302bb07a4f6cf7\", client_secret=\"a11e29bc5c324ddeb19fc6249d303814\",)\n",
    "sp = spotipy.Spotify(client_credentials_manager = client_credentials_manager)\n",
    "\n",
    "\n",
    "#util.prompt_for_user_token(username,scope,\n",
    "#                           client_id='7736d10450e04c5f9e302bb07a4f6cf7',\n",
    "#                           client_secret='a11e29bc5c324ddeb19fc6249d303814',\n",
    "#                           redirect_uri='http://localhost:8888/callback')\n"
   ]
  },
  {
   "cell_type": "code",
   "execution_count": 19,
   "metadata": {
    "collapsed": false
   },
   "outputs": [
    {
     "name": "stdout",
     "output_type": "stream",
     "text": [
      "{u'artists': {u'items': [{u'genres': [u'latin', u'latin alternative', u'latin hip hop', u'puerto rican rock', u'reggaeton', u'rock en espanol', u'tropical'], u'name': u'Calle 13', u'external_urls': {u'spotify': u'https://open.spotify.com/artist/0yNSzH5nZmHzeE2xn6Xshb'}, u'popularity': 75, u'uri': u'spotify:artist:0yNSzH5nZmHzeE2xn6Xshb', u'href': u'https://api.spotify.com/v1/artists/0yNSzH5nZmHzeE2xn6Xshb', u'followers': {u'total': 990936, u'href': None}, u'images': [{u'url': u'https://i.scdn.co/image/edabfb79fbf3d71ad9d0961a7b199a1470fe5372', u'width': 1000, u'height': 719}, {u'url': u'https://i.scdn.co/image/a3c9dd492b973e5d5ebfd957b30325972c16d2d4', u'width': 640, u'height': 460}, {u'url': u'https://i.scdn.co/image/896866e81c4a3d873ce3a28b2396f75212d192a0', u'width': 200, u'height': 144}, {u'url': u'https://i.scdn.co/image/28b48ccc46a8cb61fbf3e67867fc7794acc6dc85', u'width': 64, u'height': 46}], u'type': u'artist', u'id': u'0yNSzH5nZmHzeE2xn6Xshb'}, {u'genres': [u'latin hip hop', u'reggaeton'], u'name': u'Residente Calle 13', u'external_urls': {u'spotify': u'https://open.spotify.com/artist/4R6Ib2tbo6ZwVqt4vt9T10'}, u'popularity': 51, u'uri': u'spotify:artist:4R6Ib2tbo6ZwVqt4vt9T10', u'href': u'https://api.spotify.com/v1/artists/4R6Ib2tbo6ZwVqt4vt9T10', u'followers': {u'total': 8529, u'href': None}, u'images': [], u'type': u'artist', u'id': u'4R6Ib2tbo6ZwVqt4vt9T10'}, {u'genres': [], u'name': u'Calle 13 & Tuna Bardos UPR Rio Piedras-Choir', u'external_urls': {u'spotify': u'https://open.spotify.com/artist/7oq1zAlVhCh4h45YyfXyry'}, u'popularity': 30, u'uri': u'spotify:artist:7oq1zAlVhCh4h45YyfXyry', u'href': u'https://api.spotify.com/v1/artists/7oq1zAlVhCh4h45YyfXyry', u'followers': {u'total': 985, u'href': None}, u'images': [], u'type': u'artist', u'id': u'7oq1zAlVhCh4h45YyfXyry'}, {u'genres': [], u'name': u'Made famous by Calle 13', u'external_urls': {u'spotify': u'https://open.spotify.com/artist/6KgDOEj5hd0k2kRbGT0Ogt'}, u'popularity': 0, u'uri': u'spotify:artist:6KgDOEj5hd0k2kRbGT0Ogt', u'href': u'https://api.spotify.com/v1/artists/6KgDOEj5hd0k2kRbGT0Ogt', u'followers': {u'total': 56, u'href': None}, u'images': [], u'type': u'artist', u'id': u'6KgDOEj5hd0k2kRbGT0Ogt'}], u'next': None, u'href': u'https://api.spotify.com/v1/search?query=artist%3ACalle+13&type=artist&offset=0&limit=10', u'limit': 10, u'offset': 0, u'total': 4, u'previous': None}}\n",
      "  0 Island In The Sun\n",
      "  1 Say It Ain't So\n",
      "  2 Buddy Holly\n",
      "  3 Feels Like Summer\n",
      "  4 Say It Ain't So\n",
      "  5 Buddy Holly\n",
      "  6 Beverly Hills\n",
      "  7 Hash Pipe\n",
      "  8 Thank God For Girls\n",
      "  9 Undone - The Sweater Song\n",
      "  10 Beach Boys\n",
      "  11 Mexican Fender\n",
      "  12 Undone - The Sweater Song\n",
      "  13 King Of The World\n",
      "  14 My Name Is Jonas\n",
      "  15 Pork And Beans\n",
      "  16 My Name Is Jonas\n",
      "  17 Only In Dreams\n",
      "  18 Jacked Up\n",
      "  19 The World Has Turned And Left Me Here\n"
     ]
    }
   ],
   "source": [
    "results = sp.search(q='artist:' + \"Calle 13\", type='artist')\n",
    "print results\n",
    "results = sp.search(q=\"weezer\",limit=20)\n",
    "for i,t in enumerate(results[\"tracks\"][\"items\"]):\n",
    "    print ' ', i, t['name']"
   ]
  },
  {
   "cell_type": "code",
   "execution_count": null,
   "metadata": {
    "collapsed": true
   },
   "outputs": [],
   "source": []
  }
 ],
 "metadata": {
  "anaconda-cloud": {},
  "kernelspec": {
   "display_name": "Python [conda root]",
   "language": "python",
   "name": "conda-root-py"
  },
  "language_info": {
   "codemirror_mode": {
    "name": "ipython",
    "version": 3
   },
   "file_extension": ".py",
   "mimetype": "text/x-python",
   "name": "python",
   "nbconvert_exporter": "python",
   "pygments_lexer": "ipython3",
   "version": "3.5.2"
  }
 },
 "nbformat": 4,
 "nbformat_minor": 2
}
