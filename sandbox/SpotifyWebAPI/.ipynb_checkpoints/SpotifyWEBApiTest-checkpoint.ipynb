{
 "cells": [
  {
   "cell_type": "code",
   "execution_count": null,
   "metadata": {
    "scrolled": true
   },
   "outputs": [
    {
     "name": "stdout",
     "output_type": "stream",
     "text": [
      "\n",
      "\n",
      "            User authentication requires interaction with your\n",
      "            web browser. Once you enter your credentials and\n",
      "            give authorization, you will be redirected to\n",
      "            a url.  Paste that url you were directed to to\n",
      "            complete the authorization.\n",
      "\n",
      "        \n",
      "Opened https://accounts.spotify.com/authorize?redirect_uri=http%3A%2F%2Flocalhost%3A8888%2Fcallback%2F&response_type=code&client_id=7736d10450e04c5f9e302bb07a4f6cf7 in your browser\n",
      "\n",
      "\n"
     ]
    }
   ],
   "source": [
    "import spotipy\n",
    "from spotipy.oauth2 import SpotifyClientCredentials\n",
    "\n",
    "client_credentials_manager = SpotifyClientCredentials()\n",
    "sp = spotipy.Spotify(client_credentials_manager = client_credentials_manager)\n",
    "\n",
    "\n",
    "\n",
    "import spotipy.util as util\n",
    "sp = spotipy.Spotify()\n",
    "username = \"\"\n",
    "scope = \"\"\n",
    "#util.prompt_for_user_token(username,scope,\n",
    "#                           client_id='7736d10450e04c5f9e302bb07a4f6cf7',\n",
    "#                           client_secret='a11e29bc5c324ddeb19fc6249d303814',\n",
    "#                           redirect_uri='http://localhost:8888/callback')\n",
    "results = sp.search(q='artist:' + \"Calle 13\", type='artist')\n",
    "print results\n",
    "#results = sp.search(q=\"weezer\",limit=20)\n",
    "#for i,t in enumerate(results[\"tracks\"][\"items\"]):\n",
    "#    print ' ', i, t['name']"
   ]
  },
  {
   "cell_type": "code",
   "execution_count": null,
   "metadata": {
    "collapsed": true
   },
   "outputs": [],
   "source": []
  },
  {
   "cell_type": "code",
   "execution_count": null,
   "metadata": {
    "collapsed": true
   },
   "outputs": [],
   "source": []
  }
 ],
 "metadata": {
  "kernelspec": {
   "display_name": "Python 2",
   "language": "python",
   "name": "python2"
  },
  "language_info": {
   "codemirror_mode": {
    "name": "ipython",
    "version": 2
   },
   "file_extension": ".py",
   "mimetype": "text/x-python",
   "name": "python",
   "nbconvert_exporter": "python",
   "pygments_lexer": "ipython2",
   "version": "2.7.12"
  }
 },
 "nbformat": 4,
 "nbformat_minor": 2
}
